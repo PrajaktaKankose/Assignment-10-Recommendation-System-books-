{
  "nbformat": 4,
  "nbformat_minor": 0,
  "metadata": {
    "colab": {
      "name": "Assignment-10-Recommendation System Data Mining (books).ipynb",
      "provenance": [],
      "collapsed_sections": []
    },
    "kernelspec": {
      "name": "python3",
      "display_name": "Python 3"
    },
    "language_info": {
      "name": "python"
    }
  },
  "cells": [
    {
      "cell_type": "markdown",
      "source": [
        "Q 1)"
      ],
      "metadata": {
        "id": "r-kiH1aJfMsZ"
      }
    },
    {
      "cell_type": "code",
      "execution_count": null,
      "metadata": {
        "id": "xOzjqdD6wl9Q"
      },
      "outputs": [],
      "source": [
        "# Import Libraries\n",
        "import pandas as pd\n",
        "import numpy as np\n",
        "from sklearn.metrics import pairwise_distances\n",
        "from scipy.spatial.distance import cosine,correlation"
      ]
    },
    {
      "cell_type": "code",
      "source": [
        "# Import Dataset\n",
        "books=pd.read_csv('/content/book .csv',encoding='Latin1')\n",
        "books"
      ],
      "metadata": {
        "id": "WvErrt9SxaIz"
      },
      "execution_count": null,
      "outputs": []
    },
    {
      "cell_type": "code",
      "source": [
        "#EDA and data preprocessing\n",
        "books.shape"
      ],
      "metadata": {
        "id": "EpVD3svXxJPS"
      },
      "execution_count": null,
      "outputs": []
    },
    {
      "cell_type": "code",
      "source": [
        "books.info()"
      ],
      "metadata": {
        "id": "2UVr9mZdxRLm"
      },
      "execution_count": null,
      "outputs": []
    },
    {
      "cell_type": "code",
      "source": [
        "#Checking for null values\n",
        "books.isna().sum()"
      ],
      "metadata": {
        "id": "0C1MfCu7xZLV"
      },
      "execution_count": null,
      "outputs": []
    },
    {
      "cell_type": "code",
      "source": [
        "books2=books.iloc[:,1:]\n",
        "books2"
      ],
      "metadata": {
        "id": "7vsjbOcXxek4"
      },
      "execution_count": null,
      "outputs": []
    },
    {
      "cell_type": "code",
      "source": [
        "# Sort by User IDs\n",
        "books2.sort_values(['User.ID'])"
      ],
      "metadata": {
        "id": "zjjgZ7oBxvyd"
      },
      "execution_count": null,
      "outputs": []
    },
    {
      "cell_type": "code",
      "source": [
        "# number of unique users in the dataset\n",
        "len(books2['User.ID'].unique())"
      ],
      "metadata": {
        "id": "HZfcYUIZxz7W"
      },
      "execution_count": null,
      "outputs": []
    },
    {
      "cell_type": "code",
      "source": [
        "# number of unique books in the dataset\n",
        "len(books2['Book.Title'].unique())"
      ],
      "metadata": {
        "id": "LtHWBLkdx4OR"
      },
      "execution_count": null,
      "outputs": []
    },
    {
      "cell_type": "code",
      "source": [
        "# converting long data into wide data using pivot table\n",
        "books3=books2.pivot_table(index='User.ID',columns='Book.Title',values='Book.Rating').reset_index(drop=True)\n",
        "books3"
      ],
      "metadata": {
        "id": "XjnqLqXOx84S"
      },
      "execution_count": null,
      "outputs": []
    },
    {
      "cell_type": "code",
      "source": [
        "# Replacing the index values by unique user Ids\n",
        "books3.index=books2['User.ID'].unique()\n",
        "books3"
      ],
      "metadata": {
        "id": "5C_YTKbAyAm-"
      },
      "execution_count": null,
      "outputs": []
    },
    {
      "cell_type": "code",
      "source": [
        "# Impute those NaNs with 0 values\n",
        "books3.fillna(0,inplace=True)\n",
        "books3"
      ],
      "metadata": {
        "id": "me9KDLmOyKcq"
      },
      "execution_count": null,
      "outputs": []
    },
    {
      "cell_type": "code",
      "source": [
        "# Calculating Cosine Similarity between Users on array data\n",
        "user_sim=1-pairwise_distances(books3.values,metric='cosine')\n",
        "user_sim"
      ],
      "metadata": {
        "id": "RPXN0QeeyPA5"
      },
      "execution_count": null,
      "outputs": []
    },
    {
      "cell_type": "code",
      "source": [
        "# Store the results in a dataframe format\n",
        "user_sim2=pd.DataFrame(user_sim)\n",
        "user_sim2"
      ],
      "metadata": {
        "id": "B4b_Sp6yyTov"
      },
      "execution_count": null,
      "outputs": []
    },
    {
      "cell_type": "code",
      "source": [
        "# Set the index and column names to user ids \n",
        "user_sim2.index=books2['User.ID'].unique()\n",
        "user_sim2.columns=books2['User.ID'].unique()\n",
        "user_sim2"
      ],
      "metadata": {
        "id": "E9WOHNMjyaAS"
      },
      "execution_count": null,
      "outputs": []
    },
    {
      "cell_type": "code",
      "source": [
        "# Nullifying diagonal values\n",
        "np.fill_diagonal(user_sim,0)\n",
        "user_sim2"
      ],
      "metadata": {
        "id": "3ipt2viMyd4s"
      },
      "execution_count": null,
      "outputs": []
    },
    {
      "cell_type": "code",
      "source": [
        "# Most Similar Users\n",
        "user_sim2.idxmax(axis=1)"
      ],
      "metadata": {
        "id": "ZuJVpVrzyhjD"
      },
      "execution_count": null,
      "outputs": []
    },
    {
      "cell_type": "code",
      "source": [
        "# extract the books which userId 162107 & 276726 have watched\n",
        "books2[(books2['User.ID']==162107) | (books2['User.ID']==276726)]"
      ],
      "metadata": {
        "id": "vF6GCogIyksM"
      },
      "execution_count": null,
      "outputs": []
    },
    {
      "cell_type": "code",
      "source": [
        "# extract the books which userId 276729 & 276726 have watched\n",
        "books2[(books2['User.ID']==276729) | (books2['User.ID']==276726)]"
      ],
      "metadata": {
        "id": "-mKIYLyOyo_X"
      },
      "execution_count": null,
      "outputs": []
    },
    {
      "cell_type": "code",
      "source": [
        "user_1=books2[(books2['User.ID']==276729)]\n",
        "user_2=books2[(books2['User.ID']==276726)]"
      ],
      "metadata": {
        "id": "Okfcvbdvys0k"
      },
      "execution_count": null,
      "outputs": []
    },
    {
      "cell_type": "code",
      "source": [
        "user_1['Book.Title']"
      ],
      "metadata": {
        "id": "SyYlBtysywxP"
      },
      "execution_count": null,
      "outputs": []
    },
    {
      "cell_type": "code",
      "source": [
        "user_2['Book.Title']"
      ],
      "metadata": {
        "id": "4lnyOzhTy36e"
      },
      "execution_count": null,
      "outputs": []
    },
    {
      "cell_type": "code",
      "source": [
        "pd.merge(user_1,user_2,on='Book.Title',how='outer')"
      ],
      "metadata": {
        "id": "emnJ8HWvy9Ht"
      },
      "execution_count": null,
      "outputs": []
    },
    {
      "cell_type": "code",
      "source": [
        ""
      ],
      "metadata": {
        "id": "hiB4kIEpzDTi"
      },
      "execution_count": null,
      "outputs": []
    }
  ]
}